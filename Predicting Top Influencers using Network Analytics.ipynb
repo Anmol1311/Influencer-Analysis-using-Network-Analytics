{
 "cells": [
  {
   "attachments": {},
   "cell_type": "markdown",
   "id": "d224b646",
   "metadata": {},
   "source": [
    "<div class=\"alert alert-block alert-success\">\n",
    "<h3>Aim:</h3>\n",
    "In this project, we aim to utilize the tweets activity data of different users to identify the top 20 influencers. We also explore how the profits change when an analytical model is employeed to identify influencers through a hypothehical scenario.\n",
    "    \n",
    "\n",
    "### Approach:\n",
    "#### Part-1\n",
    "We utilized a Kaggle dataset containing tweets data to build a model to predict influencers. Each observation in the dataset describes two individuals A and B. 'Choice' column in each row shows who among A or B are more influential.\n",
    "Choice = “1” implies A is more influential than B.\n",
    "Choice = “0” implies B is more influential than A.\n",
    "Using this dataset, we created analytics models to classify influencers and identified the best predictors of influence.\n",
    "#### Part-2\n",
    "We utilised another file containing tweets of different users. We used the influence scores of best model from Part 1 and concepts of network analytics to identify the top 20 influencers.\n",
    "</div>"
   ]
  },
  {
   "cell_type": "markdown",
   "id": "a85c062d",
   "metadata": {},
   "source": [
    "### Part-1"
   ]
  },
  {
   "cell_type": "code",
   "execution_count": 96,
   "id": "9200bdae",
   "metadata": {},
   "outputs": [],
   "source": [
    "import pandas as pd\n",
    "from matplotlib import pyplot as plt\n",
    "import seaborn as sns"
   ]
  },
  {
   "cell_type": "code",
   "execution_count": 97,
   "id": "53b8ade0",
   "metadata": {},
   "outputs": [],
   "source": [
    "df=pd.read_csv('train.csv')"
   ]
  },
  {
   "cell_type": "code",
   "execution_count": 98,
   "id": "08ec7a5d",
   "metadata": {},
   "outputs": [
    {
     "data": {
      "text/html": [
       "<div>\n",
       "<style scoped>\n",
       "    .dataframe tbody tr th:only-of-type {\n",
       "        vertical-align: middle;\n",
       "    }\n",
       "\n",
       "    .dataframe tbody tr th {\n",
       "        vertical-align: top;\n",
       "    }\n",
       "\n",
       "    .dataframe thead th {\n",
       "        text-align: right;\n",
       "    }\n",
       "</style>\n",
       "<table border=\"1\" class=\"dataframe\">\n",
       "  <thead>\n",
       "    <tr style=\"text-align: right;\">\n",
       "      <th></th>\n",
       "      <th>Choice</th>\n",
       "      <th>A_follower_count</th>\n",
       "      <th>A_following_count</th>\n",
       "      <th>A_listed_count</th>\n",
       "      <th>A_mentions_received</th>\n",
       "      <th>A_retweets_received</th>\n",
       "      <th>A_mentions_sent</th>\n",
       "      <th>A_retweets_sent</th>\n",
       "      <th>A_posts</th>\n",
       "      <th>A_network_feature_1</th>\n",
       "      <th>...</th>\n",
       "      <th>B_following_count</th>\n",
       "      <th>B_listed_count</th>\n",
       "      <th>B_mentions_received</th>\n",
       "      <th>B_retweets_received</th>\n",
       "      <th>B_mentions_sent</th>\n",
       "      <th>B_retweets_sent</th>\n",
       "      <th>B_posts</th>\n",
       "      <th>B_network_feature_1</th>\n",
       "      <th>B_network_feature_2</th>\n",
       "      <th>B_network_feature_3</th>\n",
       "    </tr>\n",
       "  </thead>\n",
       "  <tbody>\n",
       "    <tr>\n",
       "      <th>0</th>\n",
       "      <td>0</td>\n",
       "      <td>228</td>\n",
       "      <td>302</td>\n",
       "      <td>3</td>\n",
       "      <td>0.583979</td>\n",
       "      <td>0.100503</td>\n",
       "      <td>0.100503</td>\n",
       "      <td>0.100503</td>\n",
       "      <td>0.362150</td>\n",
       "      <td>2</td>\n",
       "      <td>...</td>\n",
       "      <td>29808</td>\n",
       "      <td>1689</td>\n",
       "      <td>15.430498</td>\n",
       "      <td>3.984029</td>\n",
       "      <td>8.204331</td>\n",
       "      <td>0.332423</td>\n",
       "      <td>6.988815</td>\n",
       "      <td>66</td>\n",
       "      <td>75.530303</td>\n",
       "      <td>1916.893939</td>\n",
       "    </tr>\n",
       "    <tr>\n",
       "      <th>1</th>\n",
       "      <td>0</td>\n",
       "      <td>21591</td>\n",
       "      <td>1179</td>\n",
       "      <td>228</td>\n",
       "      <td>90.456506</td>\n",
       "      <td>25.798292</td>\n",
       "      <td>5.709329</td>\n",
       "      <td>1.111159</td>\n",
       "      <td>5.176620</td>\n",
       "      <td>369</td>\n",
       "      <td>...</td>\n",
       "      <td>848</td>\n",
       "      <td>1610</td>\n",
       "      <td>40.495021</td>\n",
       "      <td>8.943607</td>\n",
       "      <td>3.227677</td>\n",
       "      <td>0.564343</td>\n",
       "      <td>1.070321</td>\n",
       "      <td>163</td>\n",
       "      <td>132.030675</td>\n",
       "      <td>2931.515337</td>\n",
       "    </tr>\n",
       "    <tr>\n",
       "      <th>2</th>\n",
       "      <td>0</td>\n",
       "      <td>7310</td>\n",
       "      <td>1215</td>\n",
       "      <td>101</td>\n",
       "      <td>25.503644</td>\n",
       "      <td>9.556347</td>\n",
       "      <td>5.361519</td>\n",
       "      <td>0.591206</td>\n",
       "      <td>3.589718</td>\n",
       "      <td>95</td>\n",
       "      <td>...</td>\n",
       "      <td>482</td>\n",
       "      <td>206</td>\n",
       "      <td>0.734696</td>\n",
       "      <td>0.354379</td>\n",
       "      <td>0.603202</td>\n",
       "      <td>0.100503</td>\n",
       "      <td>0.603202</td>\n",
       "      <td>3</td>\n",
       "      <td>10.333333</td>\n",
       "      <td>277.333333</td>\n",
       "    </tr>\n",
       "    <tr>\n",
       "      <th>3</th>\n",
       "      <td>0</td>\n",
       "      <td>20</td>\n",
       "      <td>7</td>\n",
       "      <td>2</td>\n",
       "      <td>7.690824</td>\n",
       "      <td>0.277306</td>\n",
       "      <td>1.331508</td>\n",
       "      <td>0.100503</td>\n",
       "      <td>2.830627</td>\n",
       "      <td>6</td>\n",
       "      <td>...</td>\n",
       "      <td>17637</td>\n",
       "      <td>278</td>\n",
       "      <td>572.874855</td>\n",
       "      <td>390.293681</td>\n",
       "      <td>27.552040</td>\n",
       "      <td>7.167557</td>\n",
       "      <td>32.101906</td>\n",
       "      <td>1762</td>\n",
       "      <td>23.469296</td>\n",
       "      <td>1395.845634</td>\n",
       "    </tr>\n",
       "    <tr>\n",
       "      <th>4</th>\n",
       "      <td>1</td>\n",
       "      <td>45589</td>\n",
       "      <td>862</td>\n",
       "      <td>2641</td>\n",
       "      <td>148.854279</td>\n",
       "      <td>36.998884</td>\n",
       "      <td>27.881768</td>\n",
       "      <td>3.333492</td>\n",
       "      <td>23.861282</td>\n",
       "      <td>551</td>\n",
       "      <td>...</td>\n",
       "      <td>1711</td>\n",
       "      <td>181</td>\n",
       "      <td>21.601866</td>\n",
       "      <td>3.581661</td>\n",
       "      <td>6.764657</td>\n",
       "      <td>1.119727</td>\n",
       "      <td>4.563246</td>\n",
       "      <td>85</td>\n",
       "      <td>48.500000</td>\n",
       "      <td>1993.627907</td>\n",
       "    </tr>\n",
       "  </tbody>\n",
       "</table>\n",
       "<p>5 rows × 23 columns</p>\n",
       "</div>"
      ],
      "text/plain": [
       "   Choice  A_follower_count  A_following_count  A_listed_count  \\\n",
       "0       0               228                302               3   \n",
       "1       0             21591               1179             228   \n",
       "2       0              7310               1215             101   \n",
       "3       0                20                  7               2   \n",
       "4       1             45589                862            2641   \n",
       "\n",
       "   A_mentions_received  A_retweets_received  A_mentions_sent  A_retweets_sent  \\\n",
       "0             0.583979             0.100503         0.100503         0.100503   \n",
       "1            90.456506            25.798292         5.709329         1.111159   \n",
       "2            25.503644             9.556347         5.361519         0.591206   \n",
       "3             7.690824             0.277306         1.331508         0.100503   \n",
       "4           148.854279            36.998884        27.881768         3.333492   \n",
       "\n",
       "     A_posts  A_network_feature_1  ...  B_following_count  B_listed_count  \\\n",
       "0   0.362150                    2  ...              29808            1689   \n",
       "1   5.176620                  369  ...                848            1610   \n",
       "2   3.589718                   95  ...                482             206   \n",
       "3   2.830627                    6  ...              17637             278   \n",
       "4  23.861282                  551  ...               1711             181   \n",
       "\n",
       "   B_mentions_received  B_retweets_received  B_mentions_sent  B_retweets_sent  \\\n",
       "0            15.430498             3.984029         8.204331         0.332423   \n",
       "1            40.495021             8.943607         3.227677         0.564343   \n",
       "2             0.734696             0.354379         0.603202         0.100503   \n",
       "3           572.874855           390.293681        27.552040         7.167557   \n",
       "4            21.601866             3.581661         6.764657         1.119727   \n",
       "\n",
       "     B_posts  B_network_feature_1  B_network_feature_2  B_network_feature_3  \n",
       "0   6.988815                   66            75.530303          1916.893939  \n",
       "1   1.070321                  163           132.030675          2931.515337  \n",
       "2   0.603202                    3            10.333333           277.333333  \n",
       "3  32.101906                 1762            23.469296          1395.845634  \n",
       "4   4.563246                   85            48.500000          1993.627907  \n",
       "\n",
       "[5 rows x 23 columns]"
      ]
     },
     "execution_count": 98,
     "metadata": {},
     "output_type": "execute_result"
    }
   ],
   "source": [
    "df.head()"
   ]
  },
  {
   "cell_type": "markdown",
   "id": "af77efe4",
   "metadata": {},
   "source": [
    "### Data Cleaning and Transformation"
   ]
  },
  {
   "cell_type": "markdown",
   "id": "083da54c",
   "metadata": {},
   "source": [
    "#### Checking for null values\n"
   ]
  },
  {
   "cell_type": "code",
   "execution_count": 99,
   "id": "87a144a8",
   "metadata": {},
   "outputs": [
    {
     "data": {
      "text/plain": [
       "Choice                 0\n",
       "A_follower_count       0\n",
       "A_following_count      0\n",
       "A_listed_count         0\n",
       "A_mentions_received    0\n",
       "A_retweets_received    0\n",
       "A_mentions_sent        0\n",
       "A_retweets_sent        0\n",
       "A_posts                0\n",
       "A_network_feature_1    0\n",
       "A_network_feature_2    0\n",
       "A_network_feature_3    0\n",
       "B_follower_count       0\n",
       "B_following_count      0\n",
       "B_listed_count         0\n",
       "B_mentions_received    0\n",
       "B_retweets_received    0\n",
       "B_mentions_sent        0\n",
       "B_retweets_sent        0\n",
       "B_posts                0\n",
       "B_network_feature_1    0\n",
       "B_network_feature_2    0\n",
       "B_network_feature_3    0\n",
       "dtype: int64"
      ]
     },
     "execution_count": 99,
     "metadata": {},
     "output_type": "execute_result"
    }
   ],
   "source": [
    "df.isnull().sum()"
   ]
  },
  {
   "cell_type": "markdown",
   "id": "d021218c",
   "metadata": {},
   "source": [
    "There are no null values in the dataset"
   ]
  },
  {
   "cell_type": "markdown",
   "id": "4a6e684c",
   "metadata": {},
   "source": [
    "#### Transforming the independent variables to A-B format to make them interpretable"
   ]
  },
  {
   "cell_type": "code",
   "execution_count": 100,
   "id": "141d4c05",
   "metadata": {},
   "outputs": [],
   "source": [
    "df_new=pd.DataFrame()"
   ]
  },
  {
   "cell_type": "code",
   "execution_count": 102,
   "id": "402429e0",
   "metadata": {},
   "outputs": [],
   "source": [
    "df_new['follower_count_diff']=df['A_follower_count']-df['B_follower_count']\n",
    "df_new['following_count_diff']=df['A_following_count']-df['B_following_count']\n",
    "df_new['listed_count_diff']=df['A_listed_count']-df['B_listed_count']\n",
    "df_new['mentions_received_diff']=df['A_mentions_received']-df['B_mentions_received']\n",
    "df_new['retweets_received_diff']=df['A_retweets_received']-df['B_retweets_received']\n",
    "df_new['mentions_sent_diff']=df['A_mentions_sent']-df['B_mentions_sent']\n",
    "df_new['retweets_sent_diff']=df['A_retweets_sent']-df['B_retweets_sent']\n",
    "df_new['posts_diff']=df['A_posts']-df['B_posts']\n",
    "df_new['network_feature_1_diff']=df['A_network_feature_1']-df['B_network_feature_1']\n",
    "df_new['network_feature_2_diff']=df['A_network_feature_2']-df['B_network_feature_2']\n",
    "df_new['network_feature_3_diff']=df['A_network_feature_3']-df['B_network_feature_3']"
   ]
  },
  {
   "cell_type": "code",
   "execution_count": 103,
   "id": "160023c3",
   "metadata": {},
   "outputs": [
    {
     "data": {
      "text/html": [
       "<div>\n",
       "<style scoped>\n",
       "    .dataframe tbody tr th:only-of-type {\n",
       "        vertical-align: middle;\n",
       "    }\n",
       "\n",
       "    .dataframe tbody tr th {\n",
       "        vertical-align: top;\n",
       "    }\n",
       "\n",
       "    .dataframe thead th {\n",
       "        text-align: right;\n",
       "    }\n",
       "</style>\n",
       "<table border=\"1\" class=\"dataframe\">\n",
       "  <thead>\n",
       "    <tr style=\"text-align: right;\">\n",
       "      <th></th>\n",
       "      <th>follower_count_diff</th>\n",
       "      <th>following_count_diff</th>\n",
       "      <th>listed_count_diff</th>\n",
       "      <th>mentions_received_diff</th>\n",
       "      <th>retweets_received_diff</th>\n",
       "      <th>mentions_sent_diff</th>\n",
       "      <th>retweets_sent_diff</th>\n",
       "      <th>posts_diff</th>\n",
       "      <th>network_feature_1_diff</th>\n",
       "      <th>network_feature_2_diff</th>\n",
       "      <th>network_feature_3_diff</th>\n",
       "    </tr>\n",
       "  </thead>\n",
       "  <tbody>\n",
       "    <tr>\n",
       "      <th>0</th>\n",
       "      <td>-34235</td>\n",
       "      <td>-29506</td>\n",
       "      <td>-1686</td>\n",
       "      <td>-14.846518</td>\n",
       "      <td>-3.883525</td>\n",
       "      <td>-8.103828</td>\n",
       "      <td>-0.231920</td>\n",
       "      <td>-6.626665</td>\n",
       "      <td>-64</td>\n",
       "      <td>90.969697</td>\n",
       "      <td>9438.106061</td>\n",
       "    </tr>\n",
       "    <tr>\n",
       "      <th>1</th>\n",
       "      <td>-17671</td>\n",
       "      <td>331</td>\n",
       "      <td>-1382</td>\n",
       "      <td>49.961485</td>\n",
       "      <td>16.854685</td>\n",
       "      <td>2.481652</td>\n",
       "      <td>0.546816</td>\n",
       "      <td>4.106299</td>\n",
       "      <td>206</td>\n",
       "      <td>-113.587704</td>\n",
       "      <td>-1601.149289</td>\n",
       "    </tr>\n",
       "    <tr>\n",
       "      <th>2</th>\n",
       "      <td>3688</td>\n",
       "      <td>733</td>\n",
       "      <td>-105</td>\n",
       "      <td>24.768949</td>\n",
       "      <td>9.201969</td>\n",
       "      <td>4.758317</td>\n",
       "      <td>0.490702</td>\n",
       "      <td>2.986516</td>\n",
       "      <td>92</td>\n",
       "      <td>58.594502</td>\n",
       "      <td>5722.563574</td>\n",
       "    </tr>\n",
       "    <tr>\n",
       "      <th>3</th>\n",
       "      <td>-19542</td>\n",
       "      <td>-17630</td>\n",
       "      <td>-276</td>\n",
       "      <td>-565.184032</td>\n",
       "      <td>-390.016375</td>\n",
       "      <td>-26.220532</td>\n",
       "      <td>-7.067053</td>\n",
       "      <td>-29.271279</td>\n",
       "      <td>-1756</td>\n",
       "      <td>-21.469296</td>\n",
       "      <td>-1299.678967</td>\n",
       "    </tr>\n",
       "    <tr>\n",
       "      <th>4</th>\n",
       "      <td>38035</td>\n",
       "      <td>-849</td>\n",
       "      <td>2460</td>\n",
       "      <td>127.252413</td>\n",
       "      <td>33.417223</td>\n",
       "      <td>21.117111</td>\n",
       "      <td>2.213765</td>\n",
       "      <td>19.298035</td>\n",
       "      <td>466</td>\n",
       "      <td>78.904293</td>\n",
       "      <td>840.220036</td>\n",
       "    </tr>\n",
       "  </tbody>\n",
       "</table>\n",
       "</div>"
      ],
      "text/plain": [
       "   follower_count_diff  following_count_diff  listed_count_diff  \\\n",
       "0               -34235                -29506              -1686   \n",
       "1               -17671                   331              -1382   \n",
       "2                 3688                   733               -105   \n",
       "3               -19542                -17630               -276   \n",
       "4                38035                  -849               2460   \n",
       "\n",
       "   mentions_received_diff  retweets_received_diff  mentions_sent_diff  \\\n",
       "0              -14.846518               -3.883525           -8.103828   \n",
       "1               49.961485               16.854685            2.481652   \n",
       "2               24.768949                9.201969            4.758317   \n",
       "3             -565.184032             -390.016375          -26.220532   \n",
       "4              127.252413               33.417223           21.117111   \n",
       "\n",
       "   retweets_sent_diff  posts_diff  network_feature_1_diff  \\\n",
       "0           -0.231920   -6.626665                     -64   \n",
       "1            0.546816    4.106299                     206   \n",
       "2            0.490702    2.986516                      92   \n",
       "3           -7.067053  -29.271279                   -1756   \n",
       "4            2.213765   19.298035                     466   \n",
       "\n",
       "   network_feature_2_diff  network_feature_3_diff  \n",
       "0               90.969697             9438.106061  \n",
       "1             -113.587704            -1601.149289  \n",
       "2               58.594502             5722.563574  \n",
       "3              -21.469296            -1299.678967  \n",
       "4               78.904293              840.220036  "
      ]
     },
     "execution_count": 103,
     "metadata": {},
     "output_type": "execute_result"
    }
   ],
   "source": [
    "df_new.head()"
   ]
  },
  {
   "cell_type": "markdown",
   "id": "08531eec",
   "metadata": {},
   "source": [
    "#### Normalizing all the features to bring all the data values to a common scale"
   ]
  },
  {
   "cell_type": "code",
   "execution_count": 104,
   "id": "28e3273c",
   "metadata": {},
   "outputs": [],
   "source": [
    "from sklearn.preprocessing import MinMaxScaler\n",
    "\n",
    "# Initialize the MinMaxScaler\n",
    "scaler = MinMaxScaler()\n",
    "# Fit and transform the data\n",
    "df_norm= pd.DataFrame(scaler.fit_transform(df_new), columns=df_new.columns)"
   ]
  },
  {
   "cell_type": "code",
   "execution_count": 105,
   "id": "544cbc48",
   "metadata": {},
   "outputs": [
    {
     "data": {
      "text/html": [
       "<div>\n",
       "<style scoped>\n",
       "    .dataframe tbody tr th:only-of-type {\n",
       "        vertical-align: middle;\n",
       "    }\n",
       "\n",
       "    .dataframe tbody tr th {\n",
       "        vertical-align: top;\n",
       "    }\n",
       "\n",
       "    .dataframe thead th {\n",
       "        text-align: right;\n",
       "    }\n",
       "</style>\n",
       "<table border=\"1\" class=\"dataframe\">\n",
       "  <thead>\n",
       "    <tr style=\"text-align: right;\">\n",
       "      <th></th>\n",
       "      <th>follower_count_diff</th>\n",
       "      <th>following_count_diff</th>\n",
       "      <th>listed_count_diff</th>\n",
       "      <th>mentions_received_diff</th>\n",
       "      <th>retweets_received_diff</th>\n",
       "      <th>mentions_sent_diff</th>\n",
       "      <th>retweets_sent_diff</th>\n",
       "      <th>posts_diff</th>\n",
       "      <th>network_feature_1_diff</th>\n",
       "      <th>network_feature_2_diff</th>\n",
       "      <th>network_feature_3_diff</th>\n",
       "    </tr>\n",
       "  </thead>\n",
       "  <tbody>\n",
       "    <tr>\n",
       "      <th>0</th>\n",
       "      <td>0.507400</td>\n",
       "      <td>0.347553</td>\n",
       "      <td>0.510798</td>\n",
       "      <td>0.500196</td>\n",
       "      <td>0.500128</td>\n",
       "      <td>0.447178</td>\n",
       "      <td>0.496772</td>\n",
       "      <td>0.482830</td>\n",
       "      <td>0.501019</td>\n",
       "      <td>0.659024</td>\n",
       "      <td>0.386341</td>\n",
       "    </tr>\n",
       "    <tr>\n",
       "      <th>1</th>\n",
       "      <td>0.507632</td>\n",
       "      <td>0.363888</td>\n",
       "      <td>0.511084</td>\n",
       "      <td>0.500224</td>\n",
       "      <td>0.500151</td>\n",
       "      <td>0.516176</td>\n",
       "      <td>0.521014</td>\n",
       "      <td>0.510640</td>\n",
       "      <td>0.501167</td>\n",
       "      <td>0.588358</td>\n",
       "      <td>0.335476</td>\n",
       "    </tr>\n",
       "    <tr>\n",
       "      <th>2</th>\n",
       "      <td>0.507932</td>\n",
       "      <td>0.364108</td>\n",
       "      <td>0.512285</td>\n",
       "      <td>0.500213</td>\n",
       "      <td>0.500143</td>\n",
       "      <td>0.531015</td>\n",
       "      <td>0.519267</td>\n",
       "      <td>0.507738</td>\n",
       "      <td>0.501104</td>\n",
       "      <td>0.647840</td>\n",
       "      <td>0.369221</td>\n",
       "    </tr>\n",
       "    <tr>\n",
       "      <th>3</th>\n",
       "      <td>0.507606</td>\n",
       "      <td>0.354055</td>\n",
       "      <td>0.512124</td>\n",
       "      <td>0.499956</td>\n",
       "      <td>0.499684</td>\n",
       "      <td>0.329091</td>\n",
       "      <td>0.283996</td>\n",
       "      <td>0.424157</td>\n",
       "      <td>0.500097</td>\n",
       "      <td>0.620181</td>\n",
       "      <td>0.336865</td>\n",
       "    </tr>\n",
       "    <tr>\n",
       "      <th>4</th>\n",
       "      <td>0.508414</td>\n",
       "      <td>0.363242</td>\n",
       "      <td>0.514698</td>\n",
       "      <td>0.500258</td>\n",
       "      <td>0.500170</td>\n",
       "      <td>0.637644</td>\n",
       "      <td>0.572905</td>\n",
       "      <td>0.550002</td>\n",
       "      <td>0.501308</td>\n",
       "      <td>0.654856</td>\n",
       "      <td>0.346725</td>\n",
       "    </tr>\n",
       "  </tbody>\n",
       "</table>\n",
       "</div>"
      ],
      "text/plain": [
       "   follower_count_diff  following_count_diff  listed_count_diff  \\\n",
       "0             0.507400              0.347553           0.510798   \n",
       "1             0.507632              0.363888           0.511084   \n",
       "2             0.507932              0.364108           0.512285   \n",
       "3             0.507606              0.354055           0.512124   \n",
       "4             0.508414              0.363242           0.514698   \n",
       "\n",
       "   mentions_received_diff  retweets_received_diff  mentions_sent_diff  \\\n",
       "0                0.500196                0.500128            0.447178   \n",
       "1                0.500224                0.500151            0.516176   \n",
       "2                0.500213                0.500143            0.531015   \n",
       "3                0.499956                0.499684            0.329091   \n",
       "4                0.500258                0.500170            0.637644   \n",
       "\n",
       "   retweets_sent_diff  posts_diff  network_feature_1_diff  \\\n",
       "0            0.496772    0.482830                0.501019   \n",
       "1            0.521014    0.510640                0.501167   \n",
       "2            0.519267    0.507738                0.501104   \n",
       "3            0.283996    0.424157                0.500097   \n",
       "4            0.572905    0.550002                0.501308   \n",
       "\n",
       "   network_feature_2_diff  network_feature_3_diff  \n",
       "0                0.659024                0.386341  \n",
       "1                0.588358                0.335476  \n",
       "2                0.647840                0.369221  \n",
       "3                0.620181                0.336865  \n",
       "4                0.654856                0.346725  "
      ]
     },
     "execution_count": 105,
     "metadata": {},
     "output_type": "execute_result"
    }
   ],
   "source": [
    "#normalised features\n",
    "df_norm.head()"
   ]
  },
  {
   "cell_type": "markdown",
   "id": "086c052b",
   "metadata": {},
   "source": [
    "## Classification Models"
   ]
  },
  {
   "cell_type": "markdown",
   "id": "4626b163",
   "metadata": {},
   "source": [
    "### Model 1:  Logistic Regression"
   ]
  },
  {
   "cell_type": "code",
   "execution_count": 106,
   "id": "0951e8e8",
   "metadata": {},
   "outputs": [],
   "source": [
    "from sklearn.model_selection import train_test_split\n",
    "from sklearn.linear_model import LogisticRegression\n",
    "from sklearn.metrics import classification_report, accuracy_score, roc_auc_score,confusion_matrix\n",
    "from sklearn.metrics import f1_score, precision_score, recall_score"
   ]
  },
  {
   "cell_type": "code",
   "execution_count": 107,
   "id": "a7635b30",
   "metadata": {},
   "outputs": [
    {
     "name": "stdout",
     "output_type": "stream",
     "text": [
      "Accuracy of Logistic Regression Model on validation set: 68.48%\n"
     ]
    },
    {
     "data": {
      "image/png": "[encoded data removed]",
      "text/plain": [
       "<Figure size 200x200 with 2 Axes>"
      ]
     },
     "metadata": {},
     "output_type": "display_data"
    }
   ],
   "source": [
    "X=df_norm\n",
    "y=df['Choice']\n",
    "# Split the data into training and testing sets\n",
    "X_train, X_test, y_train, y_test = train_test_split(X, y, test_size=0.3, random_state=42)\n",
    "\n",
    "# Initialize and train the logistic regression model\n",
    "model = LogisticRegression( random_state=42)\n",
    "model.fit(X_train, y_train)\n",
    "\n",
    "y_pred = model.predict(X_test)\n",
    "accuracy = accuracy_score(y_test, y_pred)\n",
    "\n",
    "print(f'Accuracy of Logistic Regression Model on validation set: {accuracy * 100:.2f}%')\n",
    "\n",
    "cm = confusion_matrix(y_test, y_pred)\n",
    "\n",
    "plt.figure(figsize=(2,2))\n",
    "sns.heatmap(cm, annot=True, fmt='d')\n",
    "plt.xlabel('Predicted')\n",
    "plt.ylabel('Truth')\n",
    "plt.show()"
   ]
  },
  {
   "cell_type": "markdown",
   "id": "1c1715b6",
   "metadata": {},
   "source": [
    "### Model 2: Bagging"
   ]
  },
  {
   "cell_type": "code",
   "execution_count": 108,
   "id": "d9afcbd6",
   "metadata": {},
   "outputs": [
    {
     "name": "stdout",
     "output_type": "stream",
     "text": [
      "Number of estimators: 10, Cross-Validated Accuracy: 0.75\n",
      "Number of estimators: 50, Cross-Validated Accuracy: 0.76\n",
      "Number of estimators: 100, Cross-Validated Accuracy: 0.77\n",
      "Number of estimators: 200, Cross-Validated Accuracy: 0.77\n",
      "Number of estimators: 500, Cross-Validated Accuracy: 0.76\n",
      "The best number of estimators is 200 with a cross-validation score of 0.77\n"
     ]
    }
   ],
   "source": [
    "from sklearn.ensemble import BaggingClassifier\n",
    "from sklearn.tree import DecisionTreeClassifier\n",
    "from sklearn.model_selection import train_test_split, cross_val_score\n",
    "import numpy as np\n",
    "import pandas as pd\n",
    "\n",
    "\n",
    "base_cls = DecisionTreeClassifier(random_state=42)\n",
    "n_estimators_range = [10, 50, 100, 200, 500] \n",
    "best_score = 0\n",
    "best_n_estimators = 0\n",
    "\n",
    "\n",
    "for n_estimators in n_estimators_range:\n",
    "    # Initialize the Bagging classifier with the current number of trees\n",
    "    bagging_cls = BaggingClassifier(estimator=base_cls,n_estimators=n_estimators,random_state=42)\n",
    "\n",
    "    # Evaluate the bagging classifier using cross-validation\n",
    "    scores = cross_val_score(bagging_cls, X_train, y_train, cv=5)  # 5-fold cross-validation\n",
    "\n",
    "    # Calculate the mean score\n",
    "    mean_score = np.mean(scores)\n",
    "\n",
    "    # Print the result\n",
    "    print(f\"Number of estimators: {n_estimators}, Cross-Validated Accuracy: {mean_score:.2f}\")\n",
    "\n",
    "    # Update the best_score and best_n_estimators if the current score is better\n",
    "    if mean_score > best_score:\n",
    "        best_score = mean_score\n",
    "        best_n_estimators = n_estimators\n",
    "\n",
    "# Print the best number of estimators\n",
    "print(f\"The best number of estimators is {best_n_estimators} with a cross-validation score of {best_score:.2f}\")\n"
   ]
  },
  {
   "cell_type": "markdown",
   "id": "bdd665b6",
   "metadata": {},
   "source": [
    "### Fit the best Bagging model on the entire training set"
   ]
  },
  {
   "cell_type": "code",
   "execution_count": 109,
   "id": "167011fb",
   "metadata": {},
   "outputs": [
    {
     "name": "stdout",
     "output_type": "stream",
     "text": [
      "Accuracy of the Bagging Classifier on the validation set: 76.48%\n"
     ]
    },
    {
     "data": {
      "image/png": "[encoded data removed]",
      "text/plain": [
       "<Figure size 200x200 with 2 Axes>"
      ]
     },
     "metadata": {},
     "output_type": "display_data"
    }
   ],
   "source": [
    "best_bagging_cls = BaggingClassifier(estimator=base_cls,\n",
    "                                     n_estimators=best_n_estimators,\n",
    "                                     random_state=42)\n",
    "best_bagging_cls.fit(X_train, y_train)\n",
    "\n",
    "# Predict the response for the test dataset\n",
    "y_pred_bag = best_bagging_cls.predict(X_test)\n",
    "\n",
    "# Evaluate accuracy on the test set\n",
    "accuracy_bag = accuracy_score(y_test, y_pred_bag)\n",
    "print(f'Accuracy of the Bagging Classifier on the validation set: {accuracy_bag*100:.2f}%')\n",
    "\n",
    "cm = confusion_matrix(y_test, y_pred_bag)\n",
    "\n",
    "plt.figure(figsize=(2,2))\n",
    "sns.heatmap(cm, annot=True, fmt='d')\n",
    "plt.xlabel('Predicted')\n",
    "plt.ylabel('Truth')\n",
    "plt.show()"
   ]
  },
  {
   "cell_type": "markdown",
   "id": "92700088",
   "metadata": {},
   "source": [
    "### Model 3: Random Forest"
   ]
  },
  {
   "cell_type": "code",
   "execution_count": 110,
   "id": "c2ac918f",
   "metadata": {},
   "outputs": [
    {
     "name": "stdout",
     "output_type": "stream",
     "text": [
      "Best parameters: {'max_features': 2, 'n_estimators': 300}\n"
     ]
    }
   ],
   "source": [
    "from sklearn.ensemble import RandomForestClassifier\n",
    "from sklearn.model_selection import train_test_split, GridSearchCV\n",
    "from sklearn.metrics import accuracy_score\n",
    "\n",
    "\n",
    "# Define the parameter grid to search\n",
    "param_grid = {\n",
    "    'n_estimators': [10, 50, 100, 200,300],  \n",
    "    'max_features': [1,2,3,4,5,6,7,8,9,10,11] \n",
    "}\n",
    "\n",
    "# Create a RandomForestClassifier instance\n",
    "rf = RandomForestClassifier(random_state=42)\n",
    "\n",
    "# Create the GridSearchCV instance\n",
    "grid_search = GridSearchCV(estimator=rf, param_grid=param_grid, cv=5, n_jobs=-1, verbose=0)\n",
    "\n",
    "# Fit the GridSearchCV instance to find the best model\n",
    "grid_search.fit(X_train, y_train)\n",
    "\n",
    "print(f\"Best parameters: {grid_search.best_params_}\")"
   ]
  },
  {
   "cell_type": "code",
   "execution_count": 111,
   "id": "d8a09cd8",
   "metadata": {
    "scrolled": false
   },
   "outputs": [
    {
     "name": "stdout",
     "output_type": "stream",
     "text": [
      "Accuracy of Random Forest Model on the validation set: 76.79%\n"
     ]
    }
   ],
   "source": [
    "from sklearn.ensemble import RandomForestClassifier\n",
    "\n",
    "# Initialize the Random Forest Classifier\n",
    "optimal_rf = RandomForestClassifier(n_estimators=300, max_features=2, random_state=42)\n",
    "\n",
    "# Train the Random Forest Classifier\n",
    "optimal_rf.fit(X_train, y_train)\n",
    "\n",
    "# Evaluate the Random Forest Classifier\n",
    "y_pred_rf = optimal_rf.predict(X_test)\n",
    "\n",
    "accuracy_rf = accuracy_score(y_test, y_pred_rf)\n",
    "\n",
    "print(f'Accuracy of Random Forest Model on the validation set: {accuracy_rf*100:.2f}%')"
   ]
  },
  {
   "cell_type": "code",
   "execution_count": 113,
   "id": "58cdba22",
   "metadata": {},
   "outputs": [
    {
     "data": {
      "text/plain": [
       "listed_count_diff         0.158168\n",
       "follower_count_diff       0.126802\n",
       "network_feature_1_diff    0.120826\n",
       "retweets_received_diff    0.100485\n",
       "mentions_received_diff    0.091520\n",
       "mentions_sent_diff        0.072841\n",
       "posts_diff                0.068105\n",
       "network_feature_3_diff    0.066907\n",
       "network_feature_2_diff    0.066665\n",
       "following_count_diff      0.066059\n",
       "retweets_sent_diff        0.061622\n",
       "dtype: float64"
      ]
     },
     "execution_count": 113,
     "metadata": {},
     "output_type": "execute_result"
    }
   ],
   "source": [
    "feature_scores_rf = pd.Series(optimal_rf.feature_importances_, index=X_train.columns).sort_values(ascending=False)\n",
    "feature_scores_rf "
   ]
  },
  {
   "cell_type": "markdown",
   "id": "2402e50a",
   "metadata": {},
   "source": [
    "<div class=\"alert alert-block alert-success\">\n",
    "    <p><b><h3>Best Model:</h3></b><p>\n",
    "<p><b> Accuracy of Logistic Regression Model: 68.48%</b><p>  \n",
    "<p><b> Accuracy of Bagging Model: 76.48%</b><p>  \n",
    "<p><b> Accuracy of Random Forest Model: 76.79%</b><p>\n",
    "    \n",
    "\n",
    "<p><b><h4>Therefore, our best model is a Random Forest model with 300 estimators and 2 features. The accuracy of this model is 76.79%</h4></b>.<p>\n",
    "\n",
    "   \n",
    "</div>\n",
    "\n"
   ]
  },
  {
   "cell_type": "code",
   "execution_count": 114,
   "id": "7cee4e3f",
   "metadata": {},
   "outputs": [
    {
     "name": "stdout",
     "output_type": "stream",
     "text": [
      "Confusion Matrix for the Random Forest Model\n"
     ]
    },
    {
     "data": {
      "image/png": "[encoded data removed]",
      "text/plain": [
       "<Figure size 200x200 with 2 Axes>"
      ]
     },
     "metadata": {},
     "output_type": "display_data"
    }
   ],
   "source": [
    "cm_rf = confusion_matrix(y_test, y_pred_rf)\n",
    "\n",
    "plt.figure(figsize=(2,2))\n",
    "sns.heatmap(cm_rf, annot=True, fmt='d')\n",
    "plt.xlabel('Predicted')\n",
    "plt.ylabel('Truth')\n",
    "print('Confusion Matrix for the Random Forest Model')\n",
    "plt.show()"
   ]
  },
  {
   "cell_type": "markdown",
   "id": "98e37aa9",
   "metadata": {},
   "source": [
    "<div class=\"alert alert-block alert-success\">\n",
    "  <p><b><h3>Which factors are best predictors of influence?</h3></b><p>  \n",
    " <p>Random Forest is our best model but to find the best predictors of influence, we are using Logistic Regression as it provides better interpretability.<p>\n",
    "   \n",
    "</div>\n",
    "\n"
   ]
  },
  {
   "cell_type": "code",
   "execution_count": 115,
   "id": "3d091e5e",
   "metadata": {},
   "outputs": [
    {
     "data": {
      "text/plain": [
       "follower_count_diff       6.904485\n",
       "listed_count_diff         5.139088\n",
       "retweets_sent_diff        4.127734\n",
       "network_feature_3_diff    2.566454\n",
       "network_feature_2_diff    2.534091\n",
       "network_feature_1_diff    1.800783\n",
       "mentions_sent_diff        1.767706\n",
       "following_count_diff      1.499999\n",
       "posts_diff                0.990924\n",
       "retweets_received_diff    0.402550\n",
       "mentions_received_diff    0.290235\n",
       "dtype: float64"
      ]
     },
     "execution_count": 115,
     "metadata": {},
     "output_type": "execute_result"
    }
   ],
   "source": [
    "#feature importance from Logistic Regression Model\n",
    "coefficients = model.coef_[0]\n",
    "\n",
    "feature_importance_lr=pd.Series(coefficients, index=X_train.columns).sort_values(ascending=False)\n",
    "\n",
    "feature_importance_lr"
   ]
  },
  {
   "cell_type": "code",
   "execution_count": 116,
   "id": "8ab1eff8",
   "metadata": {},
   "outputs": [
    {
     "data": {
      "text/plain": [
       "<Axes: title={'center': 'Feature Importance for Logistic Regression'}>"
      ]
     },
     "execution_count": 116,
     "metadata": {},
     "output_type": "execute_result"
    },
    {
     "data": {
      "image/png": "[encoded data removed]",
      "text/plain": [
       "<Figure size 640x480 with 1 Axes>"
      ]
     },
     "metadata": {},
     "output_type": "display_data"
    }
   ],
   "source": [
    "feature_importance_lr.plot(kind='bar', title='Feature Importance for Logistic Regression')"
   ]
  },
  {
   "attachments": {},
   "cell_type": "markdown",
   "id": "6fb554c3",
   "metadata": {},
   "source": [
    "<div class=\"alert alert-block alert-success\">\n",
    "   <p><b><h3>Best Predictors of Influence:</h3></b><p>\n",
    "<p>We found that the following features are most significant in determining the influence:<p>\n",
    "<p><b>1. follower_count_diff</b><p>\n",
    "<p><b>2. listed_count_diff</b><p>\n",
    "<p><b>3. retweets_sent_diff</b><p>\n",
    "<p><b>4. network_feature_3_diff (presumably closeness centrality)</b><p>\n",
    "<p><b>5. network_feature_2_diff (presumably betweenness centrality)</b><p>\n",
    "\n",
    "<p>_______________________________________________________________________________________________________________________________________<p>\n",
    "    \n",
    "    \n",
    "<p>Our findings suggest that <b>follower_count_diff</b>, <b>listed_count_diff</b>, and <b>retweet_sent_diff</b> are the most important predictors. This aligns with the common understanding as well, as individuals who have a higher number of followers and are listed more often are likely to be considered more influential. Individuals who have a high number of retweets can be considered more active and engaged and thus more influential.<p>\n",
    "<p>Interestingly, we also observed that individuals with higher closeness and betweenness are more influential than those with lower closeness and betweenness which makes sense because these are individuals who can spread information fast (high closeness) as well as to the disparate parts of the network (high betweenness).<p>\n",
    "\n",
    "    \n",
    "\n",
    "<p><b><h3>Business Use Case</h3></b><p>\n",
    "Businesses can leverage the insights from this model whenever there is a new product launch or a new Social Media Marketing Campaign by identifying the most influential individuals as predicted by our model who can influence a larger population. This will enable them to maximize their outreach as well as return on investments.\n",
    "    \n",
    "   \n",
    "</div>\n",
    "\n"
   ]
  },
  {
   "cell_type": "markdown",
   "id": "bfeec5da",
   "metadata": {},
   "source": [
    "## Financial Value of the Model"
   ]
  },
  {
   "cell_type": "markdown",
   "id": "15ab71ac",
   "metadata": {},
   "source": [
    "#### Without Aanlytics:\n",
    "1. Retailer offers $5 to each person (A and B) to tweet once. \n",
    "\n",
    "2. If an influencer tweets once, there is a 0.01% chance that his/her followers will buy one unit of a product.\n",
    "\n",
    "3. Assume the retailer has a profit margin of $10 per unit, and that one customer can buy only one unit. \n",
    "\n",
    "\n",
    "\n",
    "#### Calculation\n",
    "Without any analytics, the total cost for each row is $10 ($5 to each person) and the total revenue from each row would (follower_count) * (be 0.01%) * 10. Subrtacting the two quantities will give us profit.\n",
    "\n",
    "\n"
   ]
  },
  {
   "cell_type": "code",
   "execution_count": 117,
   "id": "9d39c855",
   "metadata": {},
   "outputs": [
    {
     "data": {
      "text/html": [
       "<div>\n",
       "<style scoped>\n",
       "    .dataframe tbody tr th:only-of-type {\n",
       "        vertical-align: middle;\n",
       "    }\n",
       "\n",
       "    .dataframe tbody tr th {\n",
       "        vertical-align: top;\n",
       "    }\n",
       "\n",
       "    .dataframe thead th {\n",
       "        text-align: right;\n",
       "    }\n",
       "</style>\n",
       "<table border=\"1\" class=\"dataframe\">\n",
       "  <thead>\n",
       "    <tr style=\"text-align: right;\">\n",
       "      <th></th>\n",
       "      <th>Choice</th>\n",
       "      <th>A_follower_count</th>\n",
       "      <th>B_follower_count</th>\n",
       "    </tr>\n",
       "  </thead>\n",
       "  <tbody>\n",
       "    <tr>\n",
       "      <th>0</th>\n",
       "      <td>0</td>\n",
       "      <td>228</td>\n",
       "      <td>34463</td>\n",
       "    </tr>\n",
       "    <tr>\n",
       "      <th>1</th>\n",
       "      <td>0</td>\n",
       "      <td>21591</td>\n",
       "      <td>39262</td>\n",
       "    </tr>\n",
       "    <tr>\n",
       "      <th>2</th>\n",
       "      <td>0</td>\n",
       "      <td>7310</td>\n",
       "      <td>3622</td>\n",
       "    </tr>\n",
       "    <tr>\n",
       "      <th>3</th>\n",
       "      <td>0</td>\n",
       "      <td>20</td>\n",
       "      <td>19562</td>\n",
       "    </tr>\n",
       "    <tr>\n",
       "      <th>4</th>\n",
       "      <td>1</td>\n",
       "      <td>45589</td>\n",
       "      <td>7554</td>\n",
       "    </tr>\n",
       "  </tbody>\n",
       "</table>\n",
       "</div>"
      ],
      "text/plain": [
       "   Choice  A_follower_count  B_follower_count\n",
       "0       0               228             34463\n",
       "1       0             21591             39262\n",
       "2       0              7310              3622\n",
       "3       0                20             19562\n",
       "4       1             45589              7554"
      ]
     },
     "execution_count": 117,
     "metadata": {},
     "output_type": "execute_result"
    }
   ],
   "source": [
    "df_foll=df[['Choice','A_follower_count', 'B_follower_count']]\n",
    "df_foll.head()"
   ]
  },
  {
   "cell_type": "code",
   "execution_count": 118,
   "id": "7bc673b3",
   "metadata": {},
   "outputs": [
    {
     "name": "stdout",
     "output_type": "stream",
     "text": [
      "Without utilizing any analytics, the profit is: $5321568.593\n"
     ]
    },
    {
     "name": "stderr",
     "output_type": "stream",
     "text": [
      "/var/folders/78/vkblh4vj27d5k_r_t8cffl480000gn/T/ipykernel_2922/874874477.py:1: SettingWithCopyWarning: \n",
      "A value is trying to be set on a copy of a slice from a DataFrame.\n",
      "Try using .loc[row_indexer,col_indexer] = value instead\n",
      "\n",
      "See the caveats in the documentation: https://pandas.pydata.org/pandas-docs/stable/user_guide/indexing.html#returning-a-view-versus-a-copy\n",
      "  df_foll['profit_without_analytics']=df['Choice']*df['A_follower_count']*0.0001*10 + (1-df['Choice'])*df['B_follower_count']*0.0001*10-10\n"
     ]
    }
   ],
   "source": [
    "df_foll['profit_without_analytics']=df['Choice']*df['A_follower_count']*0.0001*10 + (1-df['Choice'])*df['B_follower_count']*0.0001*10-10\n",
    "                                                                                                     \n",
    "prof_without_analytics=df_foll['profit_without_analytics'].sum()   \n",
    "\n",
    "print('Without utilizing any analytics, the profit is:','$' +str(prof_without_analytics))"
   ]
  },
  {
   "cell_type": "markdown",
   "id": "f6fd1b79",
   "metadata": {},
   "source": [
    "#### Using the Analytics Model:\n",
    "1. If an influencer tweets twice, the overall buying probability will be 0.015%.\n",
    "2. The retailer offers $10 to those identified as influencers by the model to send two tweets each.\n",
    "\n",
    "#### Calculation:\n",
    "1. For predictions, we are using the Random Forest model as it has the highest accuracy. Whereever we have the predicted value equal to the true value are the cases where the influencers are identified correctly.\n",
    "2. When A is correctly identfied as influencer, then the profit for that row will be (A_follower_count)*(0.015%)*10-10\n",
    "3. When B is correctly identfied as influencer, then the profit for that row will be (B_follower_count)*(0.015%)*10-10\n"
   ]
  },
  {
   "cell_type": "code",
   "execution_count": 119,
   "id": "8cb3fbff",
   "metadata": {},
   "outputs": [],
   "source": [
    "y_pred_rf1 = optimal_rf.predict(X)"
   ]
  },
  {
   "cell_type": "code",
   "execution_count": 120,
   "id": "dec81a7b",
   "metadata": {},
   "outputs": [
    {
     "name": "stderr",
     "output_type": "stream",
     "text": [
      "/var/folders/78/vkblh4vj27d5k_r_t8cffl480000gn/T/ipykernel_2922/4015501120.py:1: SettingWithCopyWarning: \n",
      "A value is trying to be set on a copy of a slice from a DataFrame.\n",
      "Try using .loc[row_indexer,col_indexer] = value instead\n",
      "\n",
      "See the caveats in the documentation: https://pandas.pydata.org/pandas-docs/stable/user_guide/indexing.html#returning-a-view-versus-a-copy\n",
      "  df_foll['Prediction']=y_pred_rf1\n"
     ]
    }
   ],
   "source": [
    "df_foll['Prediction']=y_pred_rf1"
   ]
  },
  {
   "cell_type": "code",
   "execution_count": 121,
   "id": "a7dc326d",
   "metadata": {},
   "outputs": [],
   "source": [
    "mask1=df_foll['Choice']==df_foll['Prediction'] \n",
    "mask2=df_foll['Prediction']==1"
   ]
  },
  {
   "cell_type": "code",
   "execution_count": 122,
   "id": "c41308ca",
   "metadata": {},
   "outputs": [
    {
     "data": {
      "text/plain": [
       "3723228.6279999996"
      ]
     },
     "execution_count": 122,
     "metadata": {},
     "output_type": "execute_result"
    }
   ],
   "source": [
    "A_profit=df_foll[mask1 & mask2]['A_follower_count']*0.00015*10-10\n",
    "A_profit.sum()"
   ]
  },
  {
   "cell_type": "code",
   "execution_count": 123,
   "id": "14268762",
   "metadata": {},
   "outputs": [],
   "source": [
    "mask3=df_foll['Choice']==df_foll['Prediction'] \n",
    "mask4=df_foll['Prediction']==0"
   ]
  },
  {
   "cell_type": "code",
   "execution_count": 124,
   "id": "56123662",
   "metadata": {},
   "outputs": [
    {
     "data": {
      "text/plain": [
       "4047908.0819999995"
      ]
     },
     "execution_count": 124,
     "metadata": {},
     "output_type": "execute_result"
    }
   ],
   "source": [
    "B_profit=df_foll[mask3 & mask4]['B_follower_count']*0.00015*10-10\n",
    "B_profit.sum()"
   ]
  },
  {
   "cell_type": "code",
   "execution_count": 125,
   "id": "728031b9",
   "metadata": {},
   "outputs": [],
   "source": [
    "profit_with_analytics=A_profit.sum()+B_profit.sum()"
   ]
  },
  {
   "cell_type": "code",
   "execution_count": 126,
   "id": "1ed33dab",
   "metadata": {},
   "outputs": [
    {
     "name": "stdout",
     "output_type": "stream",
     "text": [
      "Using Analytics the profit is: $7771136.709999999\n"
     ]
    }
   ],
   "source": [
    "print('Using Analytics the profit is:','$' +str(profit_with_analytics))"
   ]
  },
  {
   "cell_type": "markdown",
   "id": "5f6d1f38",
   "metadata": {},
   "source": [
    "#### Lift in Profit:"
   ]
  },
  {
   "cell_type": "code",
   "execution_count": 127,
   "id": "486a4472",
   "metadata": {},
   "outputs": [],
   "source": [
    "#Lift in Expected Profit by using our model\n",
    "lift=profit_with_analytics-prof_without_analytics"
   ]
  },
  {
   "cell_type": "code",
   "execution_count": 128,
   "id": "cd837493",
   "metadata": {},
   "outputs": [],
   "source": [
    "lift_per=((profit_with_analytics-prof_without_analytics)/prof_without_analytics)*100"
   ]
  },
  {
   "cell_type": "code",
   "execution_count": 129,
   "id": "72ca6aa9",
   "metadata": {},
   "outputs": [
    {
     "name": "stdout",
     "output_type": "stream",
     "text": [
      "Increase in Expected Profit by using our model is : $2449568.1169999987\n",
      "Lift in Expected Profit by using our analytical model is : 46.03 %\n"
     ]
    }
   ],
   "source": [
    "print('Increase in Expected Profit by using our model is :','$' +str(lift))\n",
    "print('Lift in Expected Profit by using our analytical model is :',round(lift_per,2),'%')"
   ]
  },
  {
   "cell_type": "markdown",
   "id": "63e1021a",
   "metadata": {},
   "source": [
    "#### Profit from Perfect Analytical Model:\n",
    "A perfect analytical model is the one where every predicted value is same as the 'Choice'. In other words, there are no misclassifications."
   ]
  },
  {
   "cell_type": "code",
   "execution_count": 130,
   "id": "afa65cbd",
   "metadata": {},
   "outputs": [
    {
     "name": "stderr",
     "output_type": "stream",
     "text": [
      "/var/folders/78/vkblh4vj27d5k_r_t8cffl480000gn/T/ipykernel_2922/3660960161.py:1: SettingWithCopyWarning: \n",
      "A value is trying to be set on a copy of a slice from a DataFrame.\n",
      "Try using .loc[row_indexer,col_indexer] = value instead\n",
      "\n",
      "See the caveats in the documentation: https://pandas.pydata.org/pandas-docs/stable/user_guide/indexing.html#returning-a-view-versus-a-copy\n",
      "  df_foll['Perfect_Prediction']=df_foll['Choice']\n"
     ]
    }
   ],
   "source": [
    "df_foll['Perfect_Prediction']=df_foll['Choice']"
   ]
  },
  {
   "cell_type": "code",
   "execution_count": 131,
   "id": "f7f44f1f",
   "metadata": {},
   "outputs": [],
   "source": [
    "mask5=df_foll['Perfect_Prediction']==1"
   ]
  },
  {
   "cell_type": "code",
   "execution_count": 132,
   "id": "37d54c5a",
   "metadata": {},
   "outputs": [],
   "source": [
    "A_profit_perfect=df_foll[mask5]['A_follower_count']*0.00015*10-10"
   ]
  },
  {
   "cell_type": "code",
   "execution_count": 133,
   "id": "00d3898a",
   "metadata": {},
   "outputs": [
    {
     "data": {
      "text/plain": [
       "3825661.8525"
      ]
     },
     "execution_count": 133,
     "metadata": {},
     "output_type": "execute_result"
    }
   ],
   "source": [
    "A_profit_perfect.sum()"
   ]
  },
  {
   "cell_type": "code",
   "execution_count": 134,
   "id": "f687c26f",
   "metadata": {},
   "outputs": [],
   "source": [
    "mask6=df_foll['Perfect_Prediction']==0\n",
    "B_profit_perfect=df_foll[mask6]['B_follower_count']*0.00015*10-10"
   ]
  },
  {
   "cell_type": "code",
   "execution_count": 135,
   "id": "19c3fe3e",
   "metadata": {},
   "outputs": [
    {
     "data": {
      "text/plain": [
       "4184191.0369999995"
      ]
     },
     "execution_count": 135,
     "metadata": {},
     "output_type": "execute_result"
    }
   ],
   "source": [
    "B_profit_perfect.sum()"
   ]
  },
  {
   "cell_type": "code",
   "execution_count": 136,
   "id": "26f38d2c",
   "metadata": {},
   "outputs": [],
   "source": [
    "perfect_profit_with_analytics=A_profit_perfect.sum()+B_profit_perfect.sum()\n",
    "lift_perfect=((perfect_profit_with_analytics-prof_without_analytics)/prof_without_analytics)*100"
   ]
  },
  {
   "cell_type": "code",
   "execution_count": 137,
   "id": "a9326f1b",
   "metadata": {},
   "outputs": [
    {
     "name": "stdout",
     "output_type": "stream",
     "text": [
      "Using a perfect analytical model, the profit will be: $8009852.8895\n",
      "Lift in Expected Profit from the perfect analytical model would be: 50.52 %\n"
     ]
    }
   ],
   "source": [
    "print('Using a perfect analytical model, the profit will be:','$' +str(perfect_profit_with_analytics))\n",
    "print('Lift in Expected Profit from the perfect analytical model would be:',round(lift_perfect,2),'%')"
   ]
  },
  {
   "cell_type": "markdown",
   "id": "99edb701",
   "metadata": {},
   "source": [
    "### Part-2"
   ]
  },
  {
   "cell_type": "code",
   "execution_count": 139,
   "id": "cf05da98",
   "metadata": {},
   "outputs": [],
   "source": [
    "import pandas as pd\n",
    "import nltk\n",
    "from nltk.tokenize import word_tokenize"
   ]
  },
  {
   "cell_type": "code",
   "execution_count": 140,
   "id": "4b8f73ed",
   "metadata": {},
   "outputs": [],
   "source": [
    "df_tweets=pd.read_csv('tweets.csv')"
   ]
  },
  {
   "cell_type": "code",
   "execution_count": 141,
   "id": "4af5ea0f",
   "metadata": {},
   "outputs": [
    {
     "data": {
      "text/html": [
       "<div>\n",
       "<style scoped>\n",
       "    .dataframe tbody tr th:only-of-type {\n",
       "        vertical-align: middle;\n",
       "    }\n",
       "\n",
       "    .dataframe tbody tr th {\n",
       "        vertical-align: top;\n",
       "    }\n",
       "\n",
       "    .dataframe thead th {\n",
       "        text-align: right;\n",
       "    }\n",
       "</style>\n",
       "<table border=\"1\" class=\"dataframe\">\n",
       "  <thead>\n",
       "    <tr style=\"text-align: right;\">\n",
       "      <th></th>\n",
       "      <th>ids</th>\n",
       "      <th>screen_name</th>\n",
       "      <th>followers</th>\n",
       "      <th>retweet</th>\n",
       "      <th>inreplyto</th>\n",
       "      <th>favorite</th>\n",
       "      <th>friends</th>\n",
       "      <th>listed</th>\n",
       "      <th>location</th>\n",
       "      <th>text</th>\n",
       "    </tr>\n",
       "  </thead>\n",
       "  <tbody>\n",
       "    <tr>\n",
       "      <th>0</th>\n",
       "      <td>1.409150e+18</td>\n",
       "      <td>2Sherryazar1956</td>\n",
       "      <td>1992</td>\n",
       "      <td>1</td>\n",
       "      <td>NaN</td>\n",
       "      <td>0</td>\n",
       "      <td>2475</td>\n",
       "      <td>0</td>\n",
       "      <td>NW Arkansas</td>\n",
       "      <td>RT @jimmichael720: Biden doesn't have the ball...</td>\n",
       "    </tr>\n",
       "    <tr>\n",
       "      <th>1</th>\n",
       "      <td>1.049790e+18</td>\n",
       "      <td>TrueCrimePoli</td>\n",
       "      <td>652</td>\n",
       "      <td>8</td>\n",
       "      <td>NaN</td>\n",
       "      <td>0</td>\n",
       "      <td>846</td>\n",
       "      <td>0</td>\n",
       "      <td>Boston, MA</td>\n",
       "      <td>RT @ChrisStigall: Biden says\\n\\nBiden says inf...</td>\n",
       "    </tr>\n",
       "    <tr>\n",
       "      <th>2</th>\n",
       "      <td>1.357290e+18</td>\n",
       "      <td>WintWahLwin15</td>\n",
       "      <td>118</td>\n",
       "      <td>162</td>\n",
       "      <td>NaN</td>\n",
       "      <td>0</td>\n",
       "      <td>313</td>\n",
       "      <td>0</td>\n",
       "      <td>NaN</td>\n",
       "      <td>RT @ForeignPolicy: \"A U.S.-India alliance woul...</td>\n",
       "    </tr>\n",
       "    <tr>\n",
       "      <th>3</th>\n",
       "      <td>3.617900e+09</td>\n",
       "      <td>england_donald</td>\n",
       "      <td>523</td>\n",
       "      <td>65</td>\n",
       "      <td>NaN</td>\n",
       "      <td>0</td>\n",
       "      <td>263</td>\n",
       "      <td>2</td>\n",
       "      <td>Florida, USA</td>\n",
       "      <td>RT @CoryMillsFL: While Bidens State Department...</td>\n",
       "    </tr>\n",
       "    <tr>\n",
       "      <th>4</th>\n",
       "      <td>1.360330e+18</td>\n",
       "      <td>Brenda18291262</td>\n",
       "      <td>280</td>\n",
       "      <td>314</td>\n",
       "      <td>NaN</td>\n",
       "      <td>0</td>\n",
       "      <td>724</td>\n",
       "      <td>0</td>\n",
       "      <td>NaN</td>\n",
       "      <td>RT @Chicago1Ray: If Illegals can file suit on ...</td>\n",
       "    </tr>\n",
       "  </tbody>\n",
       "</table>\n",
       "</div>"
      ],
      "text/plain": [
       "            ids      screen_name   followers   retweet  inreplyto   favorite  \\\n",
       "0  1.409150e+18  2Sherryazar1956        1992         1        NaN          0   \n",
       "1  1.049790e+18    TrueCrimePoli         652         8        NaN          0   \n",
       "2  1.357290e+18    WintWahLwin15         118       162        NaN          0   \n",
       "3  3.617900e+09   england_donald         523        65        NaN          0   \n",
       "4  1.360330e+18   Brenda18291262         280       314        NaN          0   \n",
       "\n",
       "    friends   listed      location  \\\n",
       "0      2475        0  NW Arkansas    \n",
       "1       846        0    Boston, MA   \n",
       "2       313        0           NaN   \n",
       "3       263        2  Florida, USA   \n",
       "4       724        0           NaN   \n",
       "\n",
       "                                                text  \n",
       "0  RT @jimmichael720: Biden doesn't have the ball...  \n",
       "1  RT @ChrisStigall: Biden says\\n\\nBiden says inf...  \n",
       "2  RT @ForeignPolicy: \"A U.S.-India alliance woul...  \n",
       "3  RT @CoryMillsFL: While Bidens State Department...  \n",
       "4  RT @Chicago1Ray: If Illegals can file suit on ...  "
      ]
     },
     "execution_count": 141,
     "metadata": {},
     "output_type": "execute_result"
    }
   ],
   "source": [
    "df_tweets.head()"
   ]
  },
  {
   "cell_type": "code",
   "execution_count": 142,
   "id": "00894596",
   "metadata": {},
   "outputs": [],
   "source": [
    "tweets=df_tweets[[' screen_name',' inreplyto','text']]"
   ]
  },
  {
   "cell_type": "code",
   "execution_count": 143,
   "id": "5603e9ff",
   "metadata": {},
   "outputs": [
    {
     "data": {
      "text/html": [
       "<div>\n",
       "<style scoped>\n",
       "    .dataframe tbody tr th:only-of-type {\n",
       "        vertical-align: middle;\n",
       "    }\n",
       "\n",
       "    .dataframe tbody tr th {\n",
       "        vertical-align: top;\n",
       "    }\n",
       "\n",
       "    .dataframe thead th {\n",
       "        text-align: right;\n",
       "    }\n",
       "</style>\n",
       "<table border=\"1\" class=\"dataframe\">\n",
       "  <thead>\n",
       "    <tr style=\"text-align: right;\">\n",
       "      <th></th>\n",
       "      <th>screen_name</th>\n",
       "      <th>inreplyto</th>\n",
       "      <th>text</th>\n",
       "    </tr>\n",
       "  </thead>\n",
       "  <tbody>\n",
       "    <tr>\n",
       "      <th>0</th>\n",
       "      <td>2Sherryazar1956</td>\n",
       "      <td>NaN</td>\n",
       "      <td>RT @jimmichael720: Biden doesn't have the ball...</td>\n",
       "    </tr>\n",
       "    <tr>\n",
       "      <th>1</th>\n",
       "      <td>TrueCrimePoli</td>\n",
       "      <td>NaN</td>\n",
       "      <td>RT @ChrisStigall: Biden says\\n\\nBiden says inf...</td>\n",
       "    </tr>\n",
       "    <tr>\n",
       "      <th>2</th>\n",
       "      <td>WintWahLwin15</td>\n",
       "      <td>NaN</td>\n",
       "      <td>RT @ForeignPolicy: \"A U.S.-India alliance woul...</td>\n",
       "    </tr>\n",
       "    <tr>\n",
       "      <th>3</th>\n",
       "      <td>england_donald</td>\n",
       "      <td>NaN</td>\n",
       "      <td>RT @CoryMillsFL: While Bidens State Department...</td>\n",
       "    </tr>\n",
       "    <tr>\n",
       "      <th>4</th>\n",
       "      <td>Brenda18291262</td>\n",
       "      <td>NaN</td>\n",
       "      <td>RT @Chicago1Ray: If Illegals can file suit on ...</td>\n",
       "    </tr>\n",
       "  </tbody>\n",
       "</table>\n",
       "</div>"
      ],
      "text/plain": [
       "       screen_name  inreplyto  \\\n",
       "0  2Sherryazar1956        NaN   \n",
       "1    TrueCrimePoli        NaN   \n",
       "2    WintWahLwin15        NaN   \n",
       "3   england_donald        NaN   \n",
       "4   Brenda18291262        NaN   \n",
       "\n",
       "                                                text  \n",
       "0  RT @jimmichael720: Biden doesn't have the ball...  \n",
       "1  RT @ChrisStigall: Biden says\\n\\nBiden says inf...  \n",
       "2  RT @ForeignPolicy: \"A U.S.-India alliance woul...  \n",
       "3  RT @CoryMillsFL: While Bidens State Department...  \n",
       "4  RT @Chicago1Ray: If Illegals can file suit on ...  "
      ]
     },
     "execution_count": 143,
     "metadata": {},
     "output_type": "execute_result"
    }
   ],
   "source": [
    "tweets.head()"
   ]
  },
  {
   "cell_type": "code",
   "execution_count": 144,
   "id": "6c06e851",
   "metadata": {},
   "outputs": [
    {
     "name": "stderr",
     "output_type": "stream",
     "text": [
      "[nltk_data] Downloading package punkt to\n",
      "[nltk_data]     /Users/anmolagrawal/nltk_data...\n",
      "[nltk_data]   Package punkt is already up-to-date!\n"
     ]
    },
    {
     "data": {
      "text/plain": [
       "True"
      ]
     },
     "execution_count": 144,
     "metadata": {},
     "output_type": "execute_result"
    }
   ],
   "source": [
    "nltk.download('punkt')"
   ]
  },
  {
   "cell_type": "code",
   "execution_count": 145,
   "id": "496a4c23",
   "metadata": {},
   "outputs": [
    {
     "name": "stderr",
     "output_type": "stream",
     "text": [
      "/var/folders/78/vkblh4vj27d5k_r_t8cffl480000gn/T/ipykernel_2922/1372939263.py:3: SettingWithCopyWarning: \n",
      "A value is trying to be set on a copy of a slice from a DataFrame.\n",
      "Try using .loc[row_indexer,col_indexer] = value instead\n",
      "\n",
      "See the caveats in the documentation: https://pandas.pydata.org/pandas-docs/stable/user_guide/indexing.html#returning-a-view-versus-a-copy\n",
      "  tweets['text_tokens']=tweets['text'].map(extract_words)\n"
     ]
    }
   ],
   "source": [
    "def extract_words (text):\n",
    "    return word_tokenize(text)\n",
    "tweets['text_tokens']=tweets['text'].map(extract_words)"
   ]
  },
  {
   "cell_type": "code",
   "execution_count": 146,
   "id": "d3a37c4f",
   "metadata": {},
   "outputs": [
    {
     "data": {
      "text/html": [
       "<div>\n",
       "<style scoped>\n",
       "    .dataframe tbody tr th:only-of-type {\n",
       "        vertical-align: middle;\n",
       "    }\n",
       "\n",
       "    .dataframe tbody tr th {\n",
       "        vertical-align: top;\n",
       "    }\n",
       "\n",
       "    .dataframe thead th {\n",
       "        text-align: right;\n",
       "    }\n",
       "</style>\n",
       "<table border=\"1\" class=\"dataframe\">\n",
       "  <thead>\n",
       "    <tr style=\"text-align: right;\">\n",
       "      <th></th>\n",
       "      <th>screen_name</th>\n",
       "      <th>inreplyto</th>\n",
       "      <th>text</th>\n",
       "      <th>text_tokens</th>\n",
       "    </tr>\n",
       "  </thead>\n",
       "  <tbody>\n",
       "    <tr>\n",
       "      <th>0</th>\n",
       "      <td>2Sherryazar1956</td>\n",
       "      <td>NaN</td>\n",
       "      <td>RT @jimmichael720: Biden doesn't have the ball...</td>\n",
       "      <td>[RT, @, jimmichael720, :, Biden, does, n't, ha...</td>\n",
       "    </tr>\n",
       "    <tr>\n",
       "      <th>1</th>\n",
       "      <td>TrueCrimePoli</td>\n",
       "      <td>NaN</td>\n",
       "      <td>RT @ChrisStigall: Biden says\\n\\nBiden says inf...</td>\n",
       "      <td>[RT, @, ChrisStigall, :, Biden, says, Biden, s...</td>\n",
       "    </tr>\n",
       "    <tr>\n",
       "      <th>2</th>\n",
       "      <td>WintWahLwin15</td>\n",
       "      <td>NaN</td>\n",
       "      <td>RT @ForeignPolicy: \"A U.S.-India alliance woul...</td>\n",
       "      <td>[RT, @, ForeignPolicy, :, ``, A, U.S.-India, a...</td>\n",
       "    </tr>\n",
       "    <tr>\n",
       "      <th>3</th>\n",
       "      <td>england_donald</td>\n",
       "      <td>NaN</td>\n",
       "      <td>RT @CoryMillsFL: While Bidens State Department...</td>\n",
       "      <td>[RT, @, CoryMillsFL, :, While, Bidens, State, ...</td>\n",
       "    </tr>\n",
       "    <tr>\n",
       "      <th>4</th>\n",
       "      <td>Brenda18291262</td>\n",
       "      <td>NaN</td>\n",
       "      <td>RT @Chicago1Ray: If Illegals can file suit on ...</td>\n",
       "      <td>[RT, @, Chicago1Ray, :, If, Illegals, can, fil...</td>\n",
       "    </tr>\n",
       "  </tbody>\n",
       "</table>\n",
       "</div>"
      ],
      "text/plain": [
       "       screen_name  inreplyto  \\\n",
       "0  2Sherryazar1956        NaN   \n",
       "1    TrueCrimePoli        NaN   \n",
       "2    WintWahLwin15        NaN   \n",
       "3   england_donald        NaN   \n",
       "4   Brenda18291262        NaN   \n",
       "\n",
       "                                                text  \\\n",
       "0  RT @jimmichael720: Biden doesn't have the ball...   \n",
       "1  RT @ChrisStigall: Biden says\\n\\nBiden says inf...   \n",
       "2  RT @ForeignPolicy: \"A U.S.-India alliance woul...   \n",
       "3  RT @CoryMillsFL: While Bidens State Department...   \n",
       "4  RT @Chicago1Ray: If Illegals can file suit on ...   \n",
       "\n",
       "                                         text_tokens  \n",
       "0  [RT, @, jimmichael720, :, Biden, does, n't, ha...  \n",
       "1  [RT, @, ChrisStigall, :, Biden, says, Biden, s...  \n",
       "2  [RT, @, ForeignPolicy, :, ``, A, U.S.-India, a...  \n",
       "3  [RT, @, CoryMillsFL, :, While, Bidens, State, ...  \n",
       "4  [RT, @, Chicago1Ray, :, If, Illegals, can, fil...  "
      ]
     },
     "execution_count": 146,
     "metadata": {},
     "output_type": "execute_result"
    }
   ],
   "source": [
    "tweets.head()"
   ]
  },
  {
   "cell_type": "code",
   "execution_count": 147,
   "id": "99a82a24",
   "metadata": {},
   "outputs": [],
   "source": [
    "tweets_df=tweets[[' screen_name',' inreplyto','text_tokens']]"
   ]
  },
  {
   "cell_type": "code",
   "execution_count": 148,
   "id": "435486ed",
   "metadata": {},
   "outputs": [
    {
     "data": {
      "text/html": [
       "<div>\n",
       "<style scoped>\n",
       "    .dataframe tbody tr th:only-of-type {\n",
       "        vertical-align: middle;\n",
       "    }\n",
       "\n",
       "    .dataframe tbody tr th {\n",
       "        vertical-align: top;\n",
       "    }\n",
       "\n",
       "    .dataframe thead th {\n",
       "        text-align: right;\n",
       "    }\n",
       "</style>\n",
       "<table border=\"1\" class=\"dataframe\">\n",
       "  <thead>\n",
       "    <tr style=\"text-align: right;\">\n",
       "      <th></th>\n",
       "      <th>screen_name</th>\n",
       "      <th>inreplyto</th>\n",
       "      <th>text_tokens</th>\n",
       "    </tr>\n",
       "  </thead>\n",
       "  <tbody>\n",
       "    <tr>\n",
       "      <th>0</th>\n",
       "      <td>2Sherryazar1956</td>\n",
       "      <td>NaN</td>\n",
       "      <td>[RT, @, jimmichael720, :, Biden, does, n't, ha...</td>\n",
       "    </tr>\n",
       "    <tr>\n",
       "      <th>1</th>\n",
       "      <td>TrueCrimePoli</td>\n",
       "      <td>NaN</td>\n",
       "      <td>[RT, @, ChrisStigall, :, Biden, says, Biden, s...</td>\n",
       "    </tr>\n",
       "    <tr>\n",
       "      <th>2</th>\n",
       "      <td>WintWahLwin15</td>\n",
       "      <td>NaN</td>\n",
       "      <td>[RT, @, ForeignPolicy, :, ``, A, U.S.-India, a...</td>\n",
       "    </tr>\n",
       "    <tr>\n",
       "      <th>3</th>\n",
       "      <td>england_donald</td>\n",
       "      <td>NaN</td>\n",
       "      <td>[RT, @, CoryMillsFL, :, While, Bidens, State, ...</td>\n",
       "    </tr>\n",
       "    <tr>\n",
       "      <th>4</th>\n",
       "      <td>Brenda18291262</td>\n",
       "      <td>NaN</td>\n",
       "      <td>[RT, @, Chicago1Ray, :, If, Illegals, can, fil...</td>\n",
       "    </tr>\n",
       "  </tbody>\n",
       "</table>\n",
       "</div>"
      ],
      "text/plain": [
       "       screen_name  inreplyto  \\\n",
       "0  2Sherryazar1956        NaN   \n",
       "1    TrueCrimePoli        NaN   \n",
       "2    WintWahLwin15        NaN   \n",
       "3   england_donald        NaN   \n",
       "4   Brenda18291262        NaN   \n",
       "\n",
       "                                         text_tokens  \n",
       "0  [RT, @, jimmichael720, :, Biden, does, n't, ha...  \n",
       "1  [RT, @, ChrisStigall, :, Biden, says, Biden, s...  \n",
       "2  [RT, @, ForeignPolicy, :, ``, A, U.S.-India, a...  \n",
       "3  [RT, @, CoryMillsFL, :, While, Bidens, State, ...  \n",
       "4  [RT, @, Chicago1Ray, :, If, Illegals, can, fil...  "
      ]
     },
     "execution_count": 148,
     "metadata": {},
     "output_type": "execute_result"
    }
   ],
   "source": [
    "tweets_df.head()"
   ]
  },
  {
   "cell_type": "code",
   "execution_count": 149,
   "id": "0c975532",
   "metadata": {},
   "outputs": [],
   "source": [
    "import pandas as pd\n",
    "\n",
    "# Define the columns for the new DataFrame\n",
    "columns = ['screen_name', 'target', 'interaction_type']\n",
    "\n",
    "# Create an empty DataFrame with the specified columns\n",
    "network_df = pd.DataFrame(columns=columns)\n",
    "\n",
    "\n",
    "for index, row in tweets_df.iterrows():\n",
    "    l = row['text_tokens']\n",
    "    if l[0] == 'RT' and l[1] == '@':\n",
    "        # Use the length of network_df to determine the next index\n",
    "        next_index = len(network_df)\n",
    "        # Append the data to the network_df using loc\n",
    "        network_df.loc[next_index] = [row[' screen_name'], l[2], 'Retweet']\n",
    "        \n",
    "    if 'RT' not in l: \n",
    "        for i in range(0,len(l)):\n",
    "             if l[i]== '@':\n",
    "                next_index = len(network_df)\n",
    "                network_df.loc[next_index] = [row[' screen_name'], l[i+1], 'Mention']\n",
    "    if 'RT' in l:  \n",
    "        for i in range(2,len(l)):\n",
    "             if l[i]== '@':\n",
    "                next_index = len(network_df)\n",
    "                network_df.loc[next_index] = [row[' screen_name'], l[i+1], 'Mention']\n",
    "    #for i in range(0,len(l)):\n",
    "    if 'RT' not in l and '@' not in l:\n",
    "                next_index = len(network_df)\n",
    "                network_df.loc[next_index] = [row[' screen_name'], row[' screen_name'], 'Original']\n",
    "    if pd.notnull(row[' inreplyto']) and row[' inreplyto'].strip() != '':\n",
    "#     if row[' inreplyto'].str.strip()!='':\n",
    "                next_index = len(network_df)\n",
    "                network_df.loc[next_index] = [row[' screen_name'], row[' inreplyto'], 'Reply']\n",
    "    \n",
    "#     non_blank_target_df = network_df[network_df['target'].str.strip() != '']\n",
    "#     is not None:"
   ]
  },
  {
   "cell_type": "code",
   "execution_count": 150,
   "id": "839123bc",
   "metadata": {},
   "outputs": [
    {
     "data": {
      "text/html": [
       "<div>\n",
       "<style scoped>\n",
       "    .dataframe tbody tr th:only-of-type {\n",
       "        vertical-align: middle;\n",
       "    }\n",
       "\n",
       "    .dataframe tbody tr th {\n",
       "        vertical-align: top;\n",
       "    }\n",
       "\n",
       "    .dataframe thead th {\n",
       "        text-align: right;\n",
       "    }\n",
       "</style>\n",
       "<table border=\"1\" class=\"dataframe\">\n",
       "  <thead>\n",
       "    <tr style=\"text-align: right;\">\n",
       "      <th></th>\n",
       "      <th>screen_name</th>\n",
       "      <th>target</th>\n",
       "      <th>interaction_type</th>\n",
       "    </tr>\n",
       "  </thead>\n",
       "  <tbody>\n",
       "    <tr>\n",
       "      <th>0</th>\n",
       "      <td>2Sherryazar1956</td>\n",
       "      <td>jimmichael720</td>\n",
       "      <td>Retweet</td>\n",
       "    </tr>\n",
       "    <tr>\n",
       "      <th>1</th>\n",
       "      <td>TrueCrimePoli</td>\n",
       "      <td>ChrisStigall</td>\n",
       "      <td>Retweet</td>\n",
       "    </tr>\n",
       "    <tr>\n",
       "      <th>2</th>\n",
       "      <td>WintWahLwin15</td>\n",
       "      <td>ForeignPolicy</td>\n",
       "      <td>Retweet</td>\n",
       "    </tr>\n",
       "    <tr>\n",
       "      <th>3</th>\n",
       "      <td>england_donald</td>\n",
       "      <td>CoryMillsFL</td>\n",
       "      <td>Retweet</td>\n",
       "    </tr>\n",
       "    <tr>\n",
       "      <th>4</th>\n",
       "      <td>Brenda18291262</td>\n",
       "      <td>Chicago1Ray</td>\n",
       "      <td>Retweet</td>\n",
       "    </tr>\n",
       "  </tbody>\n",
       "</table>\n",
       "</div>"
      ],
      "text/plain": [
       "       screen_name         target interaction_type\n",
       "0  2Sherryazar1956  jimmichael720          Retweet\n",
       "1    TrueCrimePoli   ChrisStigall          Retweet\n",
       "2    WintWahLwin15  ForeignPolicy          Retweet\n",
       "3   england_donald    CoryMillsFL          Retweet\n",
       "4   Brenda18291262    Chicago1Ray          Retweet"
      ]
     },
     "execution_count": 150,
     "metadata": {},
     "output_type": "execute_result"
    }
   ],
   "source": [
    "network_df.head()"
   ]
  },
  {
   "cell_type": "code",
   "execution_count": 151,
   "id": "e7c222d1",
   "metadata": {},
   "outputs": [],
   "source": [
    "import networkx as nx\n",
    "import matplotlib.pyplot as plt"
   ]
  },
  {
   "cell_type": "code",
   "execution_count": 153,
   "id": "120555f3",
   "metadata": {},
   "outputs": [
    {
     "data": {
      "text/html": [
       "<div>\n",
       "<style scoped>\n",
       "    .dataframe tbody tr th:only-of-type {\n",
       "        vertical-align: middle;\n",
       "    }\n",
       "\n",
       "    .dataframe tbody tr th {\n",
       "        vertical-align: top;\n",
       "    }\n",
       "\n",
       "    .dataframe thead th {\n",
       "        text-align: right;\n",
       "    }\n",
       "</style>\n",
       "<table border=\"1\" class=\"dataframe\">\n",
       "  <thead>\n",
       "    <tr style=\"text-align: right;\">\n",
       "      <th></th>\n",
       "      <th>Node</th>\n",
       "      <th>Degree</th>\n",
       "      <th>Betweenness</th>\n",
       "      <th>Closeness</th>\n",
       "    </tr>\n",
       "  </thead>\n",
       "  <tbody>\n",
       "    <tr>\n",
       "      <th>0</th>\n",
       "      <td>2Sherryazar1956</td>\n",
       "      <td>2</td>\n",
       "      <td>0.000000e+00</td>\n",
       "      <td>0.000000</td>\n",
       "    </tr>\n",
       "    <tr>\n",
       "      <th>1</th>\n",
       "      <td>jimmichael720</td>\n",
       "      <td>5</td>\n",
       "      <td>3.934862e-07</td>\n",
       "      <td>0.000887</td>\n",
       "    </tr>\n",
       "    <tr>\n",
       "      <th>2</th>\n",
       "      <td>TrueCrimePoli</td>\n",
       "      <td>1</td>\n",
       "      <td>0.000000e+00</td>\n",
       "      <td>0.000000</td>\n",
       "    </tr>\n",
       "    <tr>\n",
       "      <th>3</th>\n",
       "      <td>ChrisStigall</td>\n",
       "      <td>3</td>\n",
       "      <td>0.000000e+00</td>\n",
       "      <td>0.000443</td>\n",
       "    </tr>\n",
       "    <tr>\n",
       "      <th>4</th>\n",
       "      <td>WintWahLwin15</td>\n",
       "      <td>1</td>\n",
       "      <td>0.000000e+00</td>\n",
       "      <td>0.000000</td>\n",
       "    </tr>\n",
       "  </tbody>\n",
       "</table>\n",
       "</div>"
      ],
      "text/plain": [
       "              Node  Degree   Betweenness  Closeness\n",
       "0  2Sherryazar1956       2  0.000000e+00   0.000000\n",
       "1    jimmichael720       5  3.934862e-07   0.000887\n",
       "2    TrueCrimePoli       1  0.000000e+00   0.000000\n",
       "3     ChrisStigall       3  0.000000e+00   0.000443\n",
       "4    WintWahLwin15       1  0.000000e+00   0.000000"
      ]
     },
     "execution_count": 153,
     "metadata": {},
     "output_type": "execute_result"
    }
   ],
   "source": [
    "# Create a directed graph from the dataframe\n",
    "G = nx.from_pandas_edgelist(network_df, 'screen_name', 'target', create_using=nx.DiGraph())\n",
    "\n",
    "# Calculate the degree for each node (for a DiGraph it will be the sum of in_degree and out_degree)\n",
    "degree_dict = {node: val for node, val in G.degree()}\n",
    "\n",
    "# Calculate betweenness centrality for each node\n",
    "betweenness_dict = nx.betweenness_centrality(G)\n",
    "\n",
    "# Calculate closeness centrality for each node\n",
    "closeness_dict = nx.closeness_centrality(G)\n",
    "\n",
    "# Convert the dictionaries to dataframes\n",
    "degree_df = pd.DataFrame(degree_dict.items(), columns=['Node', 'Degree'])\n",
    "betweenness_df = pd.DataFrame(betweenness_dict.items(), columns=['Node', 'Betweenness'])\n",
    "closeness_df = pd.DataFrame(closeness_dict.items(), columns=['Node', 'Closeness'])\n",
    "\n",
    "# Merge the dataframes into a single dataframe\n",
    "metrics_df = degree_df.merge(betweenness_df, on='Node').merge(closeness_df, on='Node')\n",
    "\n",
    "metrics_df[:5]"
   ]
  },
  {
   "cell_type": "markdown",
   "id": "2fe1c9b9",
   "metadata": {},
   "source": [
    "### Visualizing the Network"
   ]
  },
  {
   "cell_type": "code",
   "execution_count": 155,
   "id": "29ed7aa3",
   "metadata": {},
   "outputs": [
    {
     "name": "stdout",
     "output_type": "stream",
     "text": [
      "Warning: When  cdn_resources is 'local' jupyter notebook has issues displaying graphics on chrome/safari. Use cdn_resources='in_line' or cdn_resources='remote' if you have issues viewing graphics in a notebook.\n",
      "network.html\n"
     ]
    },
    {
     "data": {
      "text/html": [
       "\n",
       "        <iframe\n",
       "            width=\"100%\"\n",
       "            height=\"750px\"\n",
       "            src=\"network.html\"\n",
       "            frameborder=\"0\"\n",
       "            allowfullscreen\n",
       "            \n",
       "        ></iframe>\n",
       "        "
      ],
      "text/plain": [
       "<IPython.lib.display.IFrame at 0x2883730d0>"
      ]
     },
     "execution_count": 155,
     "metadata": {},
     "output_type": "execute_result"
    }
   ],
   "source": [
    "from pyvis.network import Network\n",
    "import networkx as nx\n",
    "\n",
    "G = nx.from_pandas_edgelist(network_df, 'screen_name', 'target')\n",
    "from pyvis.network import Network\n",
    "\n",
    "# Initialize a Pyvis network object\n",
    "nt = Network(notebook=True, height=\"750px\", width=\"100%\")\n",
    "\n",
    "# Import the NetworkX graph\n",
    "nt.from_nx(G)\n",
    "\n",
    "# Customize the visualization (optional)\n",
    "nt.toggle_physics(True)  # Enable physics for automatic node placement\n",
    "\n",
    "# Show the network\n",
    "nt.show(\"network.html\")"
   ]
  },
  {
   "cell_type": "markdown",
   "id": "3f5bbfb4",
   "metadata": {},
   "source": [
    "### Identifying the Top Influencers"
   ]
  },
  {
   "cell_type": "markdown",
   "id": "b7943f20",
   "metadata": {},
   "source": [
    "<div class=\"alert alert-block alert-success\">\n",
    "To find the top influencers, we used the feature importance weights from our Random Forest Model since it has the highest prediction accuracy.\n",
    "We use the degree, betweenness and closeness weights to calculate the influence score of each influencer\n",
    "</div>"
   ]
  },
  {
   "cell_type": "code",
   "execution_count": 156,
   "id": "e3596df9",
   "metadata": {},
   "outputs": [
    {
     "data": {
      "text/plain": [
       "listed_count_diff         0.158168\n",
       "follower_count_diff       0.126802\n",
       "network_feature_1_diff    0.120826\n",
       "retweets_received_diff    0.100485\n",
       "mentions_received_diff    0.091520\n",
       "mentions_sent_diff        0.072841\n",
       "posts_diff                0.068105\n",
       "network_feature_3_diff    0.066907\n",
       "network_feature_2_diff    0.066665\n",
       "following_count_diff      0.066059\n",
       "retweets_sent_diff        0.061622\n",
       "dtype: float64"
      ]
     },
     "execution_count": 156,
     "metadata": {},
     "output_type": "execute_result"
    }
   ],
   "source": [
    "#feature importance from the Random Forest Model\n",
    "feature_scores_rf"
   ]
  },
  {
   "cell_type": "markdown",
   "id": "191bcb6d",
   "metadata": {},
   "source": [
    "<div class=\"alert alert-block alert-success\">\n",
    "Since the scales of degree, betweenness and closenss vary, we normalise the them to treat all of them equally.\n",
    "</div>"
   ]
  },
  {
   "cell_type": "code",
   "execution_count": 157,
   "id": "af7abe2e",
   "metadata": {},
   "outputs": [
    {
     "data": {
      "text/html": [
       "<div>\n",
       "<style scoped>\n",
       "    .dataframe tbody tr th:only-of-type {\n",
       "        vertical-align: middle;\n",
       "    }\n",
       "\n",
       "    .dataframe tbody tr th {\n",
       "        vertical-align: top;\n",
       "    }\n",
       "\n",
       "    .dataframe thead th {\n",
       "        text-align: right;\n",
       "    }\n",
       "</style>\n",
       "<table border=\"1\" class=\"dataframe\">\n",
       "  <thead>\n",
       "    <tr style=\"text-align: right;\">\n",
       "      <th></th>\n",
       "      <th>Node</th>\n",
       "      <th>Degree</th>\n",
       "      <th>Betweenness</th>\n",
       "      <th>Closeness</th>\n",
       "    </tr>\n",
       "  </thead>\n",
       "  <tbody>\n",
       "    <tr>\n",
       "      <th>0</th>\n",
       "      <td>2Sherryazar1956</td>\n",
       "      <td>2</td>\n",
       "      <td>0.000000e+00</td>\n",
       "      <td>0.000000</td>\n",
       "    </tr>\n",
       "    <tr>\n",
       "      <th>1</th>\n",
       "      <td>jimmichael720</td>\n",
       "      <td>5</td>\n",
       "      <td>3.934862e-07</td>\n",
       "      <td>0.000887</td>\n",
       "    </tr>\n",
       "    <tr>\n",
       "      <th>2</th>\n",
       "      <td>TrueCrimePoli</td>\n",
       "      <td>1</td>\n",
       "      <td>0.000000e+00</td>\n",
       "      <td>0.000000</td>\n",
       "    </tr>\n",
       "    <tr>\n",
       "      <th>3</th>\n",
       "      <td>ChrisStigall</td>\n",
       "      <td>3</td>\n",
       "      <td>0.000000e+00</td>\n",
       "      <td>0.000443</td>\n",
       "    </tr>\n",
       "    <tr>\n",
       "      <th>4</th>\n",
       "      <td>WintWahLwin15</td>\n",
       "      <td>1</td>\n",
       "      <td>0.000000e+00</td>\n",
       "      <td>0.000000</td>\n",
       "    </tr>\n",
       "  </tbody>\n",
       "</table>\n",
       "</div>"
      ],
      "text/plain": [
       "              Node  Degree   Betweenness  Closeness\n",
       "0  2Sherryazar1956       2  0.000000e+00   0.000000\n",
       "1    jimmichael720       5  3.934862e-07   0.000887\n",
       "2    TrueCrimePoli       1  0.000000e+00   0.000000\n",
       "3     ChrisStigall       3  0.000000e+00   0.000443\n",
       "4    WintWahLwin15       1  0.000000e+00   0.000000"
      ]
     },
     "execution_count": 157,
     "metadata": {},
     "output_type": "execute_result"
    }
   ],
   "source": [
    "metrics_df[:5]"
   ]
  },
  {
   "cell_type": "code",
   "execution_count": 159,
   "id": "85db3820",
   "metadata": {},
   "outputs": [
    {
     "data": {
      "text/html": [
       "<div>\n",
       "<style scoped>\n",
       "    .dataframe tbody tr th:only-of-type {\n",
       "        vertical-align: middle;\n",
       "    }\n",
       "\n",
       "    .dataframe tbody tr th {\n",
       "        vertical-align: top;\n",
       "    }\n",
       "\n",
       "    .dataframe thead th {\n",
       "        text-align: right;\n",
       "    }\n",
       "</style>\n",
       "<table border=\"1\" class=\"dataframe\">\n",
       "  <thead>\n",
       "    <tr style=\"text-align: right;\">\n",
       "      <th></th>\n",
       "      <th>Node</th>\n",
       "      <th>Degree</th>\n",
       "      <th>Betweenness</th>\n",
       "      <th>Closeness</th>\n",
       "    </tr>\n",
       "  </thead>\n",
       "  <tbody>\n",
       "    <tr>\n",
       "      <th>0</th>\n",
       "      <td>2Sherryazar1956</td>\n",
       "      <td>0.001802</td>\n",
       "      <td>0.000000</td>\n",
       "      <td>0.000000</td>\n",
       "    </tr>\n",
       "    <tr>\n",
       "      <th>1</th>\n",
       "      <td>jimmichael720</td>\n",
       "      <td>0.007207</td>\n",
       "      <td>0.051282</td>\n",
       "      <td>0.003597</td>\n",
       "    </tr>\n",
       "    <tr>\n",
       "      <th>2</th>\n",
       "      <td>TrueCrimePoli</td>\n",
       "      <td>0.000000</td>\n",
       "      <td>0.000000</td>\n",
       "      <td>0.000000</td>\n",
       "    </tr>\n",
       "    <tr>\n",
       "      <th>3</th>\n",
       "      <td>ChrisStigall</td>\n",
       "      <td>0.003604</td>\n",
       "      <td>0.000000</td>\n",
       "      <td>0.001798</td>\n",
       "    </tr>\n",
       "    <tr>\n",
       "      <th>4</th>\n",
       "      <td>WintWahLwin15</td>\n",
       "      <td>0.000000</td>\n",
       "      <td>0.000000</td>\n",
       "      <td>0.000000</td>\n",
       "    </tr>\n",
       "  </tbody>\n",
       "</table>\n",
       "</div>"
      ],
      "text/plain": [
       "              Node    Degree  Betweenness  Closeness\n",
       "0  2Sherryazar1956  0.001802     0.000000   0.000000\n",
       "1    jimmichael720  0.007207     0.051282   0.003597\n",
       "2    TrueCrimePoli  0.000000     0.000000   0.000000\n",
       "3     ChrisStigall  0.003604     0.000000   0.001798\n",
       "4    WintWahLwin15  0.000000     0.000000   0.000000"
      ]
     },
     "execution_count": 159,
     "metadata": {},
     "output_type": "execute_result"
    }
   ],
   "source": [
    "columns_to_normalize = ['Degree', 'Betweenness', 'Closeness']\n",
    "\n",
    "# Apply Min-Max normalization to the specified columns\n",
    "for column in columns_to_normalize:\n",
    "    metrics_df[column] = (metrics_df[column] - metrics_df[column].min()) / (metrics_df[column].max() - metrics_df[column].min())\n",
    "metrics_df[:5]"
   ]
  },
  {
   "cell_type": "code",
   "execution_count": 162,
   "id": "78932e41",
   "metadata": {},
   "outputs": [],
   "source": [
    "metrics_df['Influence Score']=metrics_df['Degree']*0.120826+metrics_df['Betweenness']*0.066665+metrics_df['Closeness']*0.066907"
   ]
  },
  {
   "cell_type": "markdown",
   "id": "f2543fdb",
   "metadata": {},
   "source": [
    "<div class=\"alert alert-block alert-success\">\n",
    "We can use the calculated influence score to find the most influential people from the network.\n",
    "</div>"
   ]
  },
  {
   "cell_type": "code",
   "execution_count": 171,
   "id": "50ad4696",
   "metadata": {},
   "outputs": [
    {
     "data": {
      "text/html": [
       "<div>\n",
       "<style scoped>\n",
       "    .dataframe tbody tr th:only-of-type {\n",
       "        vertical-align: middle;\n",
       "    }\n",
       "\n",
       "    .dataframe tbody tr th {\n",
       "        vertical-align: top;\n",
       "    }\n",
       "\n",
       "    .dataframe thead th {\n",
       "        text-align: right;\n",
       "    }\n",
       "</style>\n",
       "<table border=\"1\" class=\"dataframe\">\n",
       "  <thead>\n",
       "    <tr style=\"text-align: right;\">\n",
       "      <th></th>\n",
       "      <th>Node</th>\n",
       "      <th>Influence Score</th>\n",
       "    </tr>\n",
       "  </thead>\n",
       "  <tbody>\n",
       "    <tr>\n",
       "      <th>0</th>\n",
       "      <td>Cernovich</td>\n",
       "      <td>0.187733</td>\n",
       "    </tr>\n",
       "    <tr>\n",
       "      <th>1</th>\n",
       "      <td>dYu7vug97v2Qcqh</td>\n",
       "      <td>0.072131</td>\n",
       "    </tr>\n",
       "    <tr>\n",
       "      <th>2</th>\n",
       "      <td>FoxNews</td>\n",
       "      <td>0.041360</td>\n",
       "    </tr>\n",
       "    <tr>\n",
       "      <th>3</th>\n",
       "      <td>TuckerCarlson</td>\n",
       "      <td>0.041026</td>\n",
       "    </tr>\n",
       "    <tr>\n",
       "      <th>4</th>\n",
       "      <td>Liz_Cheney</td>\n",
       "      <td>0.040346</td>\n",
       "    </tr>\n",
       "    <tr>\n",
       "      <th>5</th>\n",
       "      <td>rupertmurdoch</td>\n",
       "      <td>0.040346</td>\n",
       "    </tr>\n",
       "    <tr>\n",
       "      <th>6</th>\n",
       "      <td>jayawallace</td>\n",
       "      <td>0.040346</td>\n",
       "    </tr>\n",
       "    <tr>\n",
       "      <th>7</th>\n",
       "      <td>Suzannescott</td>\n",
       "      <td>0.040346</td>\n",
       "    </tr>\n",
       "    <tr>\n",
       "      <th>8</th>\n",
       "      <td>SpeakerRyan</td>\n",
       "      <td>0.040346</td>\n",
       "    </tr>\n",
       "    <tr>\n",
       "      <th>9</th>\n",
       "      <td>Chicago1Ray</td>\n",
       "      <td>0.032911</td>\n",
       "    </tr>\n",
       "    <tr>\n",
       "      <th>10</th>\n",
       "      <td>RepFranklin</td>\n",
       "      <td>0.027839</td>\n",
       "    </tr>\n",
       "    <tr>\n",
       "      <th>11</th>\n",
       "      <td>StateDept</td>\n",
       "      <td>0.024797</td>\n",
       "    </tr>\n",
       "    <tr>\n",
       "      <th>12</th>\n",
       "      <td>HawleyMO</td>\n",
       "      <td>0.024121</td>\n",
       "    </tr>\n",
       "    <tr>\n",
       "      <th>13</th>\n",
       "      <td>seanhannity</td>\n",
       "      <td>0.023880</td>\n",
       "    </tr>\n",
       "    <tr>\n",
       "      <th>14</th>\n",
       "      <td>mikepompeo</td>\n",
       "      <td>0.023783</td>\n",
       "    </tr>\n",
       "    <tr>\n",
       "      <th>15</th>\n",
       "      <td>Jereme45</td>\n",
       "      <td>0.021852</td>\n",
       "    </tr>\n",
       "    <tr>\n",
       "      <th>16</th>\n",
       "      <td>dcexaminer</td>\n",
       "      <td>0.018862</td>\n",
       "    </tr>\n",
       "    <tr>\n",
       "      <th>17</th>\n",
       "      <td>razingarizona</td>\n",
       "      <td>0.015245</td>\n",
       "    </tr>\n",
       "    <tr>\n",
       "      <th>18</th>\n",
       "      <td>RepLeeZeldin</td>\n",
       "      <td>0.014656</td>\n",
       "    </tr>\n",
       "    <tr>\n",
       "      <th>19</th>\n",
       "      <td>POTUS</td>\n",
       "      <td>0.010261</td>\n",
       "    </tr>\n",
       "  </tbody>\n",
       "</table>\n",
       "</div>"
      ],
      "text/plain": [
       "               Node  Influence Score\n",
       "0         Cernovich         0.187733\n",
       "1   dYu7vug97v2Qcqh         0.072131\n",
       "2           FoxNews         0.041360\n",
       "3     TuckerCarlson         0.041026\n",
       "4        Liz_Cheney         0.040346\n",
       "5     rupertmurdoch         0.040346\n",
       "6       jayawallace         0.040346\n",
       "7      Suzannescott         0.040346\n",
       "8       SpeakerRyan         0.040346\n",
       "9       Chicago1Ray         0.032911\n",
       "10      RepFranklin         0.027839\n",
       "11        StateDept         0.024797\n",
       "12         HawleyMO         0.024121\n",
       "13      seanhannity         0.023880\n",
       "14       mikepompeo         0.023783\n",
       "15         Jereme45         0.021852\n",
       "16       dcexaminer         0.018862\n",
       "17    razingarizona         0.015245\n",
       "18     RepLeeZeldin         0.014656\n",
       "19            POTUS         0.010261"
      ]
     },
     "execution_count": 171,
     "metadata": {},
     "output_type": "execute_result"
    }
   ],
   "source": [
    "metrics_df[['Node','Influence Score']].sort_values(by='Influence Score',ascending=False)[:20].reset_index(drop=True)"
   ]
  }
 ],
 "metadata": {
  "kernelspec": {
   "display_name": "Python 3 (ipykernel)",
   "language": "python",
   "name": "python3"
  },
  "language_info": {
   "codemirror_mode": {
    "name": "ipython",
    "version": 3
   },
   "file_extension": ".py",
   "mimetype": "text/x-python",
   "name": "python",
   "nbconvert_exporter": "python",
   "pygments_lexer": "ipython3",
   "version": "3.10.9"
  }
 },
 "nbformat": 4,
 "nbformat_minor": 5
}
